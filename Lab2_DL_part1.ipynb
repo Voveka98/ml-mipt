{
  "nbformat": 4,
  "nbformat_minor": 0,
  "metadata": {
    "anaconda-cloud": {},
    "kernelspec": {
      "name": "python3",
      "display_name": "Python 3"
    },
    "language_info": {
      "codemirror_mode": {
        "name": "ipython",
        "version": 3
      },
      "file_extension": ".py",
      "mimetype": "text/x-python",
      "name": "python",
      "nbconvert_exporter": "python",
      "pygments_lexer": "ipython3",
      "version": "3.7.3"
    },
    "colab": {
      "name": "Lab2_DL_part1.ipynb",
      "provenance": [],
      "include_colab_link": true
    }
  },
  "cells": [
    {
      "cell_type": "markdown",
      "metadata": {
        "id": "view-in-github",
        "colab_type": "text"
      },
      "source": [
        "<a href=\"https://colab.research.google.com/github/Voveka98/ml-mipt/blob/master/Lab2_DL_part1.ipynb\" target=\"_parent\"><img src=\"https://colab.research.google.com/assets/colab-badge.svg\" alt=\"Open In Colab\"/></a>"
      ]
    },
    {
      "cell_type": "markdown",
      "metadata": {
        "id": "lp-icTwuuhkB",
        "colab_type": "text"
      },
      "source": [
        "## Lab 3"
      ]
    },
    {
      "cell_type": "markdown",
      "metadata": {
        "id": "XaKffLt9uhkD",
        "colab_type": "text"
      },
      "source": [
        "### Part 1. Overfit it (1.5 points)"
      ]
    },
    {
      "cell_type": "markdown",
      "metadata": {
        "id": "NahvH6zcuhkG",
        "colab_type": "text"
      },
      "source": [
        "Будем работать с датасетом [Fashion-MNIST](https://github.com/zalandoresearch/fashion-mnist) (*hint: он доступен в torchvision*).\n",
        "\n",
        "Ваша задача состоит в следующем:\n",
        "1. Обучить сеть, которая покажет >= 0.92 test accuracy.\n",
        "2. Пронаблюдать и продемонстрировать процесс переобучения сети с увеличением числа параметров (==нейронов) и/или числа слоев и продемонстрировать это наглядно (например, на графиках).\n",
        "3. Попробовать частично справиться с переобучением с помощью подходящих приемов (Dropout/batchnorm/augmentation etc.)\n",
        "\n",
        "*Примечание*: Пункты 2 и 3 взаимосвязаны, в п.3 Вам прелагается сделать полученную в п.2 сеть менее склонной к переобучению. Пункт 1 является независимым от пунктов 2 и 3."
      ]
    },
    {
      "cell_type": "code",
      "metadata": {
        "id": "TQne1XHBuhkH",
        "colab_type": "code",
        "colab": {}
      },
      "source": [
        "# Your great code here"
      ],
      "execution_count": 0,
      "outputs": []
    },
    {
      "cell_type": "code",
      "metadata": {
        "id": "mSn0Vq9ouhkM",
        "colab_type": "code",
        "colab": {}
      },
      "source": [
        "import torch\n",
        "from collections import OrderedDict\n",
        "from torch import nn, optim\n",
        "import seaborn\n",
        "import torch\n",
        "import torch.nn.functional as F\n",
        "from torchvision import datasets, transforms\n",
        "from torch.autograd import Variable"
      ],
      "execution_count": 0,
      "outputs": []
    },
    {
      "cell_type": "code",
      "metadata": {
        "id": "iVUhJ5OTuhkP",
        "colab_type": "code",
        "colab": {}
      },
      "source": [
        "transform = transforms.Compose([transforms.ToTensor(), transforms.Normalize((0.5,), (0.5,))]) \n",
        "# Download and load the training data \n",
        "trainset = datasets.FashionMNIST('F_MNIST_data/', download=True, train=True, transform=transform) \n",
        "trainloader = torch.utils.data.DataLoader(trainset, batch_size=100, shuffle=True) \n",
        "\n",
        "# Download and load the test data \n",
        "testset = datasets.FashionMNIST('F_MNIST_data/', download=True, train=False, transform=transform) \n",
        "testloader = torch.utils.data.DataLoader(testset, batch_size=100, shuffle=True)"
      ],
      "execution_count": 0,
      "outputs": []
    },
    {
      "cell_type": "code",
      "metadata": {
        "id": "7u5HzOU6uhkS",
        "colab_type": "code",
        "outputId": "d88ba882-a20b-4a28-e5f1-2f1289c710c3",
        "colab": {
          "base_uri": "https://localhost:8080/",
          "height": 68
        }
      },
      "source": [
        "trainset.train_labels"
      ],
      "execution_count": 35,
      "outputs": [
        {
          "output_type": "stream",
          "text": [
            "/usr/local/lib/python3.6/dist-packages/torchvision/datasets/mnist.py:43: UserWarning: train_labels has been renamed targets\n",
            "  warnings.warn(\"train_labels has been renamed targets\")\n"
          ],
          "name": "stderr"
        },
        {
          "output_type": "execute_result",
          "data": {
            "text/plain": [
              "tensor([9, 0, 0,  ..., 3, 0, 5])"
            ]
          },
          "metadata": {
            "tags": []
          },
          "execution_count": 35
        }
      ]
    },
    {
      "cell_type": "code",
      "metadata": {
        "id": "EYFTh3v12lLG",
        "colab_type": "code",
        "outputId": "8c62c684-bb15-4ddc-a901-55ead2422fb9",
        "colab": {
          "base_uri": "https://localhost:8080/",
          "height": 282
        }
      },
      "source": [
        "from matplotlib import pyplot\n",
        "import numpy as np\n",
        "\n",
        "pyplot.imshow(trainset.data[1].reshape((28, 28)), cmap=\"gray\")\n",
        "print('lol',trainset.data[0].shape)"
      ],
      "execution_count": 36,
      "outputs": [
        {
          "output_type": "stream",
          "text": [
            "lol torch.Size([28, 28])\n"
          ],
          "name": "stdout"
        },
        {
          "output_type": "display_data",
          "data": {
            "image/png": "[encoded data removed]",
            "text/plain": [
              "<Figure size 432x288 with 1 Axes>"
            ]
          },
          "metadata": {
            "tags": []
          }
        }
      ]
    },
    {
      "cell_type": "code",
      "metadata": {
        "id": "CFT5jMPCuy3K",
        "colab_type": "code",
        "colab": {}
      },
      "source": [
        "class Neuro_net(torch.nn.Module):\n",
        "  def __init__(self):\n",
        "    super(Neuro_net,self).__init__()\n",
        "    self.conv1 = nn.Conv2d(in_channels=1, out_channels=15, kernel_size=5,padding=2)\n",
        "    #x.shape = 8*28*28\n",
        "    #после макспула 8*14*14\n",
        "    # self.conv2 = nn.Conv2d(in_channels=6, out_channels=16, kernel_size=3,padding=1)\n",
        "    #x.shape = 16*14*14\n",
        "    #после макспула 16*7*7\n",
        "    # self.conv3 = nn.Conv2d(in_channels=16, out_channels=36,kernel_size=3, padding=1)\n",
        "    #x.shape = 36*7*7\n",
        "    #после макспула 36*3*3\n",
        "    self.lin1 = nn.Linear(15*14*14,1328)\n",
        "    self.lin = nn.Linear(1328,768)\n",
        "    self.lin2 = nn.Linear(768, 384)\n",
        "    self.lin3 = nn.Linear(384, 128)\n",
        "    self.lin4 = nn.Linear(128, 80)\n",
        "    # self.lin5 = nn.Linear(100, 50)\n",
        "    self.lin6 = nn.Linear(80,10)\n",
        "    self.act = torch.nn.Tanh()\n",
        "    self.drop = nn.Dropout(p=0.2)\n",
        "\n",
        "  def forward(self, x):\n",
        "    x = F.max_pool2d(F.relu(self.conv1(x)),2)\n",
        "    # x = F.max_pool2d(F.relu(self.conv2(x)),2)\n",
        "    # x = F.max_pool2d(F.relu(self.conv3(x)),2)\n",
        "    x = x.view(x.shape[0],-1)\n",
        "    \n",
        "    x = self.drop(F.relu(self.lin1(x)))\n",
        "    x = F.relu(self.lin(x))\n",
        "    x = F.relu(self.lin2(x))\n",
        "    x = F.relu(self.lin3(x))\n",
        "    x = F.relu(self.lin4(x))\n",
        "    # x = self.act(self.lin5(x))\n",
        "    x = self.lin6(x)\n",
        "    return x"
      ],
      "execution_count": 0,
      "outputs": []
    },
    {
      "cell_type": "code",
      "metadata": {
        "id": "UaU_iM_bw3pT",
        "colab_type": "code",
        "outputId": "53f4cae7-3a81-46c2-b240-348a0a8d7e6e",
        "colab": {
          "base_uri": "https://localhost:8080/",
          "height": 867
        }
      },
      "source": [
        "device = torch.device('cuda:0' if torch.cuda.is_available() else 'cpu')\n",
        "model = Neuro_net().to(device)\n",
        "\n",
        "#loss\n",
        "criterion = torch.nn.modules.CrossEntropyLoss()\n",
        "\n",
        "#функция оптимизации\n",
        "optimizer = torch.optim.Adam(model.parameters(), lr=0.0001)\n",
        "\n",
        "num_epochs = 50\n",
        "\n",
        "train_losses = []\n",
        "test_losses = []\n",
        "\n",
        "for i in range(num_epochs):\n",
        "  run_loss = 0\n",
        "  \n",
        "  for images,labels in trainloader:\n",
        "    '''обнуляем градиент, иначе, так как у нас chain rule в вычислении градиента,\n",
        "    то через пару итераций мы просто забьём всю RAM ненужными цифрами'''\n",
        "    optimizer.zero_grad()              \n",
        "    '''подаём изображение на вход сети (forward pass по сути дела)'''\n",
        "    log_ps = model(images)                     \n",
        "    '''вычисляем loss'''\n",
        "    loss = criterion(log_ps, labels)       \n",
        "    '''backward pass'''\n",
        "    loss.backward()                            \n",
        "    optimizer.step()                           \n",
        "    run_loss += loss.item()                \n",
        "     \n",
        "    \n",
        "  test_loss = 0\n",
        "  accuracy = 0\n",
        "    \n",
        "  # Turn off the gradients\n",
        "  with torch.no_grad():\n",
        "    # цикл по валидационному датасету\n",
        "    for images, labels in testloader:\n",
        "      log_ps = model(images)                                 \n",
        "      # ps = torch.exp(log_ps)                                 \n",
        "      test_loss += criterion(log_ps, labels)             \n",
        "      top_p, top_class = log_ps.topk(1,dim=1)                    \n",
        "      equals = top_class == labels.view(*top_class.shape)   \n",
        "      accuracy += torch.mean(equals.type(torch.FloatTensor))\n",
        "    \n",
        "  # записываем средние лоссы на трейне и тесте       \n",
        "  train_losses.append(run_loss/len(trainloader))\n",
        "  test_losses.append(test_loss/len(testloader)) \n",
        "\n",
        "  #выводим промежуточные результаты\n",
        "  print(\"Epoch: {}/{}.. \".format(i+1, num_epochs),\n",
        "              \"Training Loss: {:.3f} \".format(run_loss/len(trainloader)),\n",
        "              \"Test Loss: {:.3f} \".format(test_loss/len(testloader)),\n",
        "              \"Test Accuracy: {:.3f}\".format(accuracy/len(testloader)))\n",
        "  "
      ],
      "execution_count": 38,
      "outputs": [
        {
          "output_type": "stream",
          "text": [
            "Epoch: 1/50..  Training Loss: 0.783  Test Loss: 0.514  Test Accuracy: 0.810\n",
            "Epoch: 2/50..  Training Loss: 0.448  Test Loss: 0.424  Test Accuracy: 0.849\n",
            "Epoch: 3/50..  Training Loss: 0.378  Test Loss: 0.375  Test Accuracy: 0.865\n",
            "Epoch: 4/50..  Training Loss: 0.335  Test Loss: 0.359  Test Accuracy: 0.872\n",
            "Epoch: 5/50..  Training Loss: 0.305  Test Loss: 0.331  Test Accuracy: 0.886\n",
            "Epoch: 6/50..  Training Loss: 0.283  Test Loss: 0.311  Test Accuracy: 0.888\n",
            "Epoch: 7/50..  Training Loss: 0.264  Test Loss: 0.318  Test Accuracy: 0.885\n",
            "Epoch: 8/50..  Training Loss: 0.249  Test Loss: 0.309  Test Accuracy: 0.893\n",
            "Epoch: 9/50..  Training Loss: 0.233  Test Loss: 0.326  Test Accuracy: 0.883\n",
            "Epoch: 10/50..  Training Loss: 0.220  Test Loss: 0.285  Test Accuracy: 0.898\n",
            "Epoch: 11/50..  Training Loss: 0.206  Test Loss: 0.275  Test Accuracy: 0.902\n",
            "Epoch: 12/50..  Training Loss: 0.194  Test Loss: 0.276  Test Accuracy: 0.901\n",
            "Epoch: 13/50..  Training Loss: 0.182  Test Loss: 0.268  Test Accuracy: 0.906\n",
            "Epoch: 14/50..  Training Loss: 0.171  Test Loss: 0.280  Test Accuracy: 0.903\n",
            "Epoch: 15/50..  Training Loss: 0.160  Test Loss: 0.279  Test Accuracy: 0.906\n",
            "Epoch: 16/50..  Training Loss: 0.148  Test Loss: 0.272  Test Accuracy: 0.908\n",
            "Epoch: 17/50..  Training Loss: 0.136  Test Loss: 0.295  Test Accuracy: 0.906\n",
            "Epoch: 18/50..  Training Loss: 0.129  Test Loss: 0.280  Test Accuracy: 0.913\n",
            "Epoch: 19/50..  Training Loss: 0.119  Test Loss: 0.276  Test Accuracy: 0.913\n",
            "Epoch: 20/50..  Training Loss: 0.111  Test Loss: 0.292  Test Accuracy: 0.909\n",
            "Epoch: 21/50..  Training Loss: 0.101  Test Loss: 0.298  Test Accuracy: 0.912\n",
            "Epoch: 22/50..  Training Loss: 0.093  Test Loss: 0.317  Test Accuracy: 0.909\n",
            "Epoch: 23/50..  Training Loss: 0.086  Test Loss: 0.298  Test Accuracy: 0.915\n",
            "Epoch: 24/50..  Training Loss: 0.078  Test Loss: 0.343  Test Accuracy: 0.911\n",
            "Epoch: 25/50..  Training Loss: 0.073  Test Loss: 0.344  Test Accuracy: 0.915\n",
            "Epoch: 26/50..  Training Loss: 0.067  Test Loss: 0.360  Test Accuracy: 0.912\n",
            "Epoch: 27/50..  Training Loss: 0.063  Test Loss: 0.347  Test Accuracy: 0.914\n",
            "Epoch: 28/50..  Training Loss: 0.058  Test Loss: 0.363  Test Accuracy: 0.916\n",
            "Epoch: 29/50..  Training Loss: 0.056  Test Loss: 0.354  Test Accuracy: 0.914\n",
            "Epoch: 30/50..  Training Loss: 0.050  Test Loss: 0.397  Test Accuracy: 0.915\n",
            "Epoch: 31/50..  Training Loss: 0.047  Test Loss: 0.385  Test Accuracy: 0.912\n",
            "Epoch: 32/50..  Training Loss: 0.042  Test Loss: 0.403  Test Accuracy: 0.912\n",
            "Epoch: 33/50..  Training Loss: 0.038  Test Loss: 0.430  Test Accuracy: 0.913\n",
            "Epoch: 34/50..  Training Loss: 0.038  Test Loss: 0.445  Test Accuracy: 0.911\n",
            "Epoch: 35/50..  Training Loss: 0.036  Test Loss: 0.450  Test Accuracy: 0.911\n",
            "Epoch: 36/50..  Training Loss: 0.031  Test Loss: 0.435  Test Accuracy: 0.917\n",
            "Epoch: 37/50..  Training Loss: 0.035  Test Loss: 0.432  Test Accuracy: 0.914\n",
            "Epoch: 38/50..  Training Loss: 0.029  Test Loss: 0.436  Test Accuracy: 0.914\n",
            "Epoch: 39/50..  Training Loss: 0.029  Test Loss: 0.458  Test Accuracy: 0.913\n",
            "Epoch: 40/50..  Training Loss: 0.026  Test Loss: 0.485  Test Accuracy: 0.912\n",
            "Epoch: 41/50..  Training Loss: 0.027  Test Loss: 0.471  Test Accuracy: 0.914\n",
            "Epoch: 42/50..  Training Loss: 0.025  Test Loss: 0.515  Test Accuracy: 0.911\n",
            "Epoch: 43/50..  Training Loss: 0.024  Test Loss: 0.498  Test Accuracy: 0.913\n",
            "Epoch: 44/50..  Training Loss: 0.024  Test Loss: 0.490  Test Accuracy: 0.914\n",
            "Epoch: 45/50..  Training Loss: 0.021  Test Loss: 0.521  Test Accuracy: 0.912\n",
            "Epoch: 46/50..  Training Loss: 0.022  Test Loss: 0.478  Test Accuracy: 0.915\n",
            "Epoch: 47/50..  Training Loss: 0.020  Test Loss: 0.522  Test Accuracy: 0.912\n",
            "Epoch: 48/50..  Training Loss: 0.020  Test Loss: 0.510  Test Accuracy: 0.913\n",
            "Epoch: 49/50..  Training Loss: 0.020  Test Loss: 0.521  Test Accuracy: 0.912\n",
            "Epoch: 50/50..  Training Loss: 0.018  Test Loss: 0.512  Test Accuracy: 0.915\n"
          ],
          "name": "stdout"
        }
      ]
    },
    {
      "cell_type": "code",
      "metadata": {
        "id": "pW67HT6Ew9qF",
        "colab_type": "code",
        "colab": {}
      },
      "source": [
        ""
      ],
      "execution_count": 0,
      "outputs": []
    }
  ]
}