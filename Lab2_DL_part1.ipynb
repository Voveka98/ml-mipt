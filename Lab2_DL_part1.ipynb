{
  "nbformat": 4,
  "nbformat_minor": 0,
  "metadata": {
    "anaconda-cloud": {},
    "kernelspec": {
      "name": "python3",
      "display_name": "Python 3"
    },
    "language_info": {
      "codemirror_mode": {
        "name": "ipython",
        "version": 3
      },
      "file_extension": ".py",
      "mimetype": "text/x-python",
      "name": "python",
      "nbconvert_exporter": "python",
      "pygments_lexer": "ipython3",
      "version": "3.7.3"
    },
    "colab": {
      "name": "Lab2_DL_part1.ipynb",
      "provenance": [],
      "include_colab_link": true
    }
  },
  "cells": [
    {
      "cell_type": "markdown",
      "metadata": {
        "id": "view-in-github",
        "colab_type": "text"
      },
      "source": [
        "<a href=\"https://colab.research.google.com/github/Voveka98/ml-mipt/blob/master/Lab2_DL_part1.ipynb\" target=\"_parent\"><img src=\"https://colab.research.google.com/assets/colab-badge.svg\" alt=\"Open In Colab\"/></a>"
      ]
    },
    {
      "cell_type": "markdown",
      "metadata": {
        "id": "lp-icTwuuhkB",
        "colab_type": "text"
      },
      "source": [
        "## Lab 3"
      ]
    },
    {
      "cell_type": "markdown",
      "metadata": {
        "id": "XaKffLt9uhkD",
        "colab_type": "text"
      },
      "source": [
        "### Part 1. Overfit it (1.5 points)"
      ]
    },
    {
      "cell_type": "markdown",
      "metadata": {
        "id": "NahvH6zcuhkG",
        "colab_type": "text"
      },
      "source": [
        "Будем работать с датасетом [Fashion-MNIST](https://github.com/zalandoresearch/fashion-mnist) (*hint: он доступен в torchvision*).\n",
        "\n",
        "Ваша задача состоит в следующем:\n",
        "1. Обучить сеть, которая покажет >= 0.92 test accuracy.\n",
        "2. Пронаблюдать и продемонстрировать процесс переобучения сети с увеличением числа параметров (==нейронов) и/или числа слоев и продемонстрировать это наглядно (например, на графиках).\n",
        "3. Попробовать частично справиться с переобучением с помощью подходящих приемов (Dropout/batchnorm/augmentation etc.)\n",
        "\n",
        "*Примечание*: Пункты 2 и 3 взаимосвязаны, в п.3 Вам прелагается сделать полученную в п.2 сеть менее склонной к переобучению. Пункт 1 является независимым от пунктов 2 и 3."
      ]
    },
    {
      "cell_type": "code",
      "metadata": {
        "id": "TQne1XHBuhkH",
        "colab_type": "code",
        "colab": {}
      },
      "source": [
        "# Your great code here"
      ],
      "execution_count": 0,
      "outputs": []
    },
    {
      "cell_type": "code",
      "metadata": {
        "id": "mSn0Vq9ouhkM",
        "colab_type": "code",
        "colab": {}
      },
      "source": [
        "import torch\n",
        "from collections import OrderedDict\n",
        "from torch import nn, optim\n",
        "import seaborn\n",
        "import torch\n",
        "import torch.nn.functional as F\n",
        "from torchvision import datasets, transforms\n",
        "from torch.autograd import Variable"
      ],
      "execution_count": 0,
      "outputs": []
    },
    {
      "cell_type": "code",
      "metadata": {
        "id": "iVUhJ5OTuhkP",
        "colab_type": "code",
        "outputId": "a6a3fe40-f172-479d-987b-efd1f632717b",
        "colab": {
          "base_uri": "https://localhost:8080/",
          "height": 275
        }
      },
      "source": [
        "transform = transforms.Compose([transforms.ToTensor(), transforms.Normalize((0.5,), (0.5,))]) \n",
        "# Download and load the training data \n",
        "trainset = datasets.FashionMNIST('F_MNIST_data/', download=True, train=True, transform=transform) \n",
        "trainloader = torch.utils.data.DataLoader(trainset, batch_size=100, shuffle=True) \n",
        "\n",
        "# Download and load the test data \n",
        "testset = datasets.FashionMNIST('F_MNIST_data/', download=True, train=False, transform=transform) \n",
        "testloader = torch.utils.data.DataLoader(testset, batch_size=100, shuffle=True)"
      ],
      "execution_count": 4,
      "outputs": [
        {
          "output_type": "stream",
          "text": [
            "\r0it [00:00, ?it/s]"
          ],
          "name": "stderr"
        },
        {
          "output_type": "stream",
          "text": [
            "Downloading http://fashion-mnist.s3-website.eu-central-1.amazonaws.com/train-images-idx3-ubyte.gz to F_MNIST_data/FashionMNIST/raw/train-images-idx3-ubyte.gz\n"
          ],
          "name": "stdout"
        },
        {
          "output_type": "stream",
          "text": [
            "26427392it [00:01, 14122146.49it/s]                             \n"
          ],
          "name": "stderr"
        },
        {
          "output_type": "stream",
          "text": [
            "Extracting F_MNIST_data/FashionMNIST/raw/train-images-idx3-ubyte.gz to F_MNIST_data/FashionMNIST/raw\n"
          ],
          "name": "stdout"
        },
        {
          "output_type": "stream",
          "text": [
            "\r0it [00:00, ?it/s]"
          ],
          "name": "stderr"
        },
        {
          "output_type": "stream",
          "text": [
            "Downloading http://fashion-mnist.s3-website.eu-central-1.amazonaws.com/train-labels-idx1-ubyte.gz to F_MNIST_data/FashionMNIST/raw/train-labels-idx1-ubyte.gz\n"
          ],
          "name": "stdout"
        },
        {
          "output_type": "stream",
          "text": [
            "32768it [00:00, 84800.39it/s]            \n",
            "0it [00:00, ?it/s]"
          ],
          "name": "stderr"
        },
        {
          "output_type": "stream",
          "text": [
            "Extracting F_MNIST_data/FashionMNIST/raw/train-labels-idx1-ubyte.gz to F_MNIST_data/FashionMNIST/raw\n",
            "Downloading http://fashion-mnist.s3-website.eu-central-1.amazonaws.com/t10k-images-idx3-ubyte.gz to F_MNIST_data/FashionMNIST/raw/t10k-images-idx3-ubyte.gz\n"
          ],
          "name": "stdout"
        },
        {
          "output_type": "stream",
          "text": [
            "4423680it [00:01, 4222628.39it/s]                             \n",
            "0it [00:00, ?it/s]"
          ],
          "name": "stderr"
        },
        {
          "output_type": "stream",
          "text": [
            "Extracting F_MNIST_data/FashionMNIST/raw/t10k-images-idx3-ubyte.gz to F_MNIST_data/FashionMNIST/raw\n",
            "Downloading http://fashion-mnist.s3-website.eu-central-1.amazonaws.com/t10k-labels-idx1-ubyte.gz to F_MNIST_data/FashionMNIST/raw/t10k-labels-idx1-ubyte.gz\n"
          ],
          "name": "stdout"
        },
        {
          "output_type": "stream",
          "text": [
            "8192it [00:00, 32984.20it/s]            "
          ],
          "name": "stderr"
        },
        {
          "output_type": "stream",
          "text": [
            "Extracting F_MNIST_data/FashionMNIST/raw/t10k-labels-idx1-ubyte.gz to F_MNIST_data/FashionMNIST/raw\n",
            "Processing...\n",
            "Done!\n"
          ],
          "name": "stdout"
        },
        {
          "output_type": "stream",
          "text": [
            "\n"
          ],
          "name": "stderr"
        }
      ]
    },
    {
      "cell_type": "code",
      "metadata": {
        "id": "7u5HzOU6uhkS",
        "colab_type": "code",
        "outputId": "b0de9b1b-97b4-419e-9241-ff50914f48f2",
        "colab": {
          "base_uri": "https://localhost:8080/",
          "height": 68
        }
      },
      "source": [
        "trainset.train_labels"
      ],
      "execution_count": 5,
      "outputs": [
        {
          "output_type": "stream",
          "text": [
            "/usr/local/lib/python3.6/dist-packages/torchvision/datasets/mnist.py:43: UserWarning: train_labels has been renamed targets\n",
            "  warnings.warn(\"train_labels has been renamed targets\")\n"
          ],
          "name": "stderr"
        },
        {
          "output_type": "execute_result",
          "data": {
            "text/plain": [
              "tensor([9, 0, 0,  ..., 3, 0, 5])"
            ]
          },
          "metadata": {
            "tags": []
          },
          "execution_count": 5
        }
      ]
    },
    {
      "cell_type": "code",
      "metadata": {
        "id": "EYFTh3v12lLG",
        "colab_type": "code",
        "outputId": "78319fe9-c69e-4d91-c025-9e563e77687d",
        "colab": {
          "base_uri": "https://localhost:8080/",
          "height": 282
        }
      },
      "source": [
        "from matplotlib import pyplot\n",
        "import numpy as np\n",
        "\n",
        "pyplot.imshow(trainset.data[1].reshape((28, 28)), cmap=\"gray\")\n",
        "print('lol',trainset.data[0].shape)"
      ],
      "execution_count": 6,
      "outputs": [
        {
          "output_type": "stream",
          "text": [
            "lol torch.Size([28, 28])\n"
          ],
          "name": "stdout"
        },
        {
          "output_type": "display_data",
          "data": {
            "image/png": "[encoded data removed]",
            "text/plain": [
              "<Figure size 432x288 with 1 Axes>"
            ]
          },
          "metadata": {
            "tags": []
          }
        }
      ]
    },
    {
      "cell_type": "code",
      "metadata": {
        "id": "CFT5jMPCuy3K",
        "colab_type": "code",
        "colab": {}
      },
      "source": [
        "class Neuro_net(torch.nn.Module):\n",
        "  def __init__(self):\n",
        "    super(Neuro_net,self).__init__()\n",
        "    self.conv1 = nn.Conv2d(in_channels=1, out_channels=6, kernel_size=3,padding=1)\n",
        "    #x.shape = 6*28*28\n",
        "    #после макспула 6*14*14\n",
        "    self.conv2 = nn.Conv2d(in_channels=6, out_channels=16, kernel_size=3,padding=1)\n",
        "    #x.shape = 16*14*14\n",
        "    #после макспула 16*7*7\n",
        "    self.lin1 = nn.Linear(784,512)\n",
        "    self.lin2 = nn.Linear(512, 250)\n",
        "    self.lin3 = nn.Linear(250, 100)\n",
        "    self.lin4 = nn.Linear(100, 10)\n",
        "    self.act = torch.nn.Tanh()\n",
        "    self.drop = nn.Dropout(p=0.2)\n",
        "\n",
        "  def forward(self, x):\n",
        "    x = F.max_pool2d(F.relu(self.conv1(x)),2)\n",
        "    x = F.max_pool2d(F.relu(self.conv2(x)),2)\n",
        "    x = x.view(x.shape[0],-1)\n",
        "    # print(x.shape)\n",
        "    x = self.act(self.lin1(x))\n",
        "    x = self.act(self.lin2(x))\n",
        "    x = self.act(self.lin3(x))\n",
        "    # x = F.relu(self.lin1(x))\n",
        "    # x = F.relu(self.lin2(x))\n",
        "    # x = F.relu(self.lin3(x))\n",
        "    x = self.lin4(x)\n",
        "    return x"
      ],
      "execution_count": 0,
      "outputs": []
    },
    {
      "cell_type": "code",
      "metadata": {
        "id": "UaU_iM_bw3pT",
        "colab_type": "code",
        "outputId": "0331b68c-3408-45d2-a84f-4fbe91238cd9",
        "colab": {
          "base_uri": "https://localhost:8080/",
          "height": 34
        }
      },
      "source": [
        "device = torch.device('cuda:0' if torch.cuda.is_available() else 'cpu')\n",
        "model = Neuro_net().to(device)\n",
        "\n",
        "#loss\n",
        "criterion = torch.nn.modules.CrossEntropyLoss()\n",
        "\n",
        "#функция оптимизации\n",
        "optimizer = torch.optim.Adam(model.parameters(), lr=0.0003)\n",
        "\n",
        "num_epochs = 30\n",
        "\n",
        "train_losses = []\n",
        "test_losses = []\n",
        "\n",
        "for i in range(num_epochs):\n",
        "  run_loss = 0\n",
        "  \n",
        "  for images,labels in trainloader:\n",
        "    '''обнуляем градиент, иначе, так как у нас chain rule в вычислении градиента,\n",
        "    то через пару итераций мы просто забьём всю RAM ненужными цифрами'''\n",
        "    optimizer.zero_grad()              \n",
        "    '''подаём изображение на вход сети (forward pass по сути дела)'''\n",
        "    log_ps = model(images)                     \n",
        "    '''вычисляем loss'''\n",
        "    loss = criterion(log_ps, labels)       \n",
        "    '''backward pass'''\n",
        "    loss.backward()                            \n",
        "    optimizer.step()                           \n",
        "    run_loss += loss.item()                \n",
        "     \n",
        "    \n",
        "  test_loss = 0\n",
        "  accuracy = 0\n",
        "    \n",
        "  # Turn off the gradients\n",
        "  with torch.no_grad():\n",
        "    # цикл по валидационному датасету\n",
        "    for images, labels in testloader:\n",
        "      log_ps = model(images)                                 \n",
        "      ps = torch.exp(log_ps)                                 \n",
        "      test_loss += criterion(log_ps, labels)             \n",
        "      top_p, top_class = ps.topk(1,dim=1)                    \n",
        "      equals = top_class == labels.view(*top_class.shape)   \n",
        "      accuracy += torch.mean(equals.type(torch.FloatTensor))\n",
        "    \n",
        "  # записываем средние лоссы на трейне и тесте       \n",
        "  train_losses.append(run_loss/len(trainloader))\n",
        "  test_losses.append(test_loss/len(testloader)) \n",
        "\n",
        "  #выводим промежуточные результаты\n",
        "  print(\"Epoch: {}/{}.. \".format(i+1, num_epochs),\n",
        "              \"Training Loss: {:.3f} \".format(run_loss/len(trainloader)),\n",
        "              \"Test Loss: {:.3f} \".format(test_loss/len(testloader)),\n",
        "              \"Test Accuracy: {:.3f}\".format(accuracy/len(testloader)))\n",
        "  "
      ],
      "execution_count": 0,
      "outputs": [
        {
          "output_type": "stream",
          "text": [
            "Epoch: 1/30..  Training Loss: 0.710  Test Loss: 0.472  Test Accuracy: 0.825\n"
          ],
          "name": "stdout"
        }
      ]
    },
    {
      "cell_type": "code",
      "metadata": {
        "id": "pW67HT6Ew9qF",
        "colab_type": "code",
        "colab": {}
      },
      "source": [
        ""
      ],
      "execution_count": 0,
      "outputs": []
    }
  ]
}